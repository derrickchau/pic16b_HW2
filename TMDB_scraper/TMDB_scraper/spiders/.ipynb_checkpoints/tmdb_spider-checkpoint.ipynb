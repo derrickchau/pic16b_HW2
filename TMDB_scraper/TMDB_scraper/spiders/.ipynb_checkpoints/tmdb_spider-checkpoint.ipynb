{
 "cells": [
  {
   "cell_type": "code",
   "execution_count": 35,
   "id": "a37c791c-212d-489b-8988-18330bfd90e0",
   "metadata": {},
   "outputs": [],
   "source": [
    "# to run \n",
    "# scrapy crawl tmdb_spider -o movies.csv\n",
    "\n",
    "import scrapy\n",
    "\n",
    "class TmdbSpider(scrapy.Spider):\n",
    "    name = 'tmdb_spider'\n",
    "    \n",
    "    start_urls = ['https://www.themoviedb.org/movie/634649-spider-man-no-way-home']\n",
    "    \n",
    "    def parse(self, response):\n",
    "        \n",
    "        cast_url = response.request.url + \"/cast\"\n",
    "        yield scrapy.Request(cast_url, callback = self.parse_full_credits)\n",
    "\n",
    "        \n",
    "    def parse_full_credits(self, response):\n",
    "        cast = response.css('section.panel.pad')[0]\n",
    "        actorList = [a.attrib['href'] for a in cast.css('ol.people.credits a')] # a\n",
    "        \n",
    "        for actor in actorList:\n",
    "            actorPages = \"https://www.themoviedb.org\" + actor\n",
    "            yield scrapy.Request(actorPages, callback = self.parse_actor_page)\n",
    "\n",
    "        \n",
    "    def parse_actor_page(self, response):\n",
    "        actingHistory = response.css('table.card.credits')[0]\n",
    "        actorName = response.css(\"h2.title a::text\").get()\n",
    "\n",
    "        for acts in actingHistory.css(\"td.role.false.account_adult_false.item_adult_false\"):\n",
    "                yield {\"actor\" : actorName,\n",
    "                        \"movie_or_TV_name\" : acts.css(\"bdi::text\").get()}"
   ]
  },
  {
   "cell_type": "code",
   "execution_count": null,
   "id": "15c71251-b056-46b9-8241-e309c5bc6307",
   "metadata": {},
   "outputs": [],
   "source": []
  }
 ],
 "metadata": {
  "kernelspec": {
   "display_name": "Python [conda env:PIC16B] *",
   "language": "python",
   "name": "conda-env-PIC16B-py"
  },
  "language_info": {
   "codemirror_mode": {
    "name": "ipython",
    "version": 3
   },
   "file_extension": ".py",
   "mimetype": "text/x-python",
   "name": "python",
   "nbconvert_exporter": "python",
   "pygments_lexer": "ipython3",
   "version": "3.8.16"
  }
 },
 "nbformat": 4,
 "nbformat_minor": 5
}
